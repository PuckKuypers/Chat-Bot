{
 "cells": [
  {
   "cell_type": "code",
   "execution_count": 364,
   "id": "09f5998b-97df-479d-a92e-f1d2a1ca7bef",
   "metadata": {},
   "outputs": [],
   "source": [
    "import pandas as pd\n",
    "import re"
   ]
  },
  {
   "cell_type": "code",
   "execution_count": 366,
   "id": "ee81e54c-ae2b-45d6-9c8d-a3a495093558",
   "metadata": {},
   "outputs": [],
   "source": [
    "with open('csvdata.txt', 'r', encoding='utf-8') as f:\n",
    "    text = f.read()"
   ]
  },
  {
   "cell_type": "markdown",
   "id": "b1715a4d-038c-420d-a63a-60d92e22d17d",
   "metadata": {},
   "source": [
    "# Concatinate different parts of answers into single column"
   ]
  },
  {
   "cell_type": "code",
   "execution_count": 369,
   "id": "79762ea9-d5dc-45dd-af4d-408fc2ea4b0e",
   "metadata": {},
   "outputs": [],
   "source": [
    "csvdata = pd.read_csv('csvdata.txt')\n",
    "lastQrow = 0\n",
    "for col in csvdata:\n",
    "    if col == 'user_type':\n",
    "        break\n",
    "    for n, item in enumerate(csvdata[col]):\n",
    "        if not (pd.isnull(item)):\n",
    "            lastQrow = n\n",
    "        else:\n",
    "            csvdata.loc[lastQrow, 'answer'] += \" \" + csvdata.loc[n, 'answer']\n",
    "            \n",
    "new = csvdata[csvdata['question'].notna()].drop(columns = ['user_type']).reset_index(drop=True)\n"
   ]
  },
  {
   "cell_type": "code",
   "execution_count": 371,
   "id": "1377ed05-27d4-4170-92a6-ee33a03a0b43",
   "metadata": {},
   "outputs": [
    {
     "data": {
      "text/html": [
       "<div>\n",
       "<style scoped>\n",
       "    .dataframe tbody tr th:only-of-type {\n",
       "        vertical-align: middle;\n",
       "    }\n",
       "\n",
       "    .dataframe tbody tr th {\n",
       "        vertical-align: top;\n",
       "    }\n",
       "\n",
       "    .dataframe thead th {\n",
       "        text-align: right;\n",
       "    }\n",
       "</style>\n",
       "<table border=\"1\" class=\"dataframe\">\n",
       "  <thead>\n",
       "    <tr style=\"text-align: right;\">\n",
       "      <th></th>\n",
       "      <th>question</th>\n",
       "      <th>answer</th>\n",
       "    </tr>\n",
       "  </thead>\n",
       "  <tbody>\n",
       "    <tr>\n",
       "      <th>0</th>\n",
       "      <td>How can I create a new Opportunity in Sales Cl...</td>\n",
       "      <td>1. Navigate to the \"Opportunities\" tab.2. Clic...</td>\n",
       "    </tr>\n",
       "    <tr>\n",
       "      <th>1</th>\n",
       "      <td>How do I track the sales stage of an Opportunity?</td>\n",
       "      <td>1. Open the Opportunity record.2. Find the \"St...</td>\n",
       "    </tr>\n",
       "    <tr>\n",
       "      <th>2</th>\n",
       "      <td>How do I link Contacts to Opportunities in Sa...</td>\n",
       "      <td>1. Open the Opportunity record.2. Scroll to th...</td>\n",
       "    </tr>\n",
       "    <tr>\n",
       "      <th>3</th>\n",
       "      <td>How can I forecast my sales in Sales Cloud?</td>\n",
       "      <td>1. Go to the \"Forecast\" tab.2. Select \"Forecas...</td>\n",
       "    </tr>\n",
       "    <tr>\n",
       "      <th>4</th>\n",
       "      <td>How do I create a quote from an Opportunity?</td>\n",
       "      <td>1. Open the Opportunity record.2. In the \"Quot...</td>\n",
       "    </tr>\n",
       "    <tr>\n",
       "      <th>...</th>\n",
       "      <td>...</td>\n",
       "      <td>...</td>\n",
       "    </tr>\n",
       "    <tr>\n",
       "      <th>75</th>\n",
       "      <td>\"How can I automate the process of deactivatin...</td>\n",
       "      <td>1.Create a report to identify inactive users b...</td>\n",
       "    </tr>\n",
       "    <tr>\n",
       "      <th>76</th>\n",
       "      <td>\"What's the process for managing and troublesh...</td>\n",
       "      <td>1.Review integration logs for error messages. ...</td>\n",
       "    </tr>\n",
       "    <tr>\n",
       "      <th>77</th>\n",
       "      <td>\"How do I configure sharing rules to give diff...</td>\n",
       "      <td>1.Go to Setup and search for \"Sharing Rules.\" ...</td>\n",
       "    </tr>\n",
       "    <tr>\n",
       "      <th>78</th>\n",
       "      <td>\"Can you explain how to set up a sandbox for t...</td>\n",
       "      <td>1.Go to Setup and search for \"Sandboxes.\" 2.Cl...</td>\n",
       "    </tr>\n",
       "    <tr>\n",
       "      <th>79</th>\n",
       "      <td>\"How do I configure and use the Event Monitori...</td>\n",
       "      <td>1.Enable Event Monitoring in Salesforce Setup....</td>\n",
       "    </tr>\n",
       "  </tbody>\n",
       "</table>\n",
       "<p>80 rows × 2 columns</p>\n",
       "</div>"
      ],
      "text/plain": [
       "                                             question  \\\n",
       "0   How can I create a new Opportunity in Sales Cl...   \n",
       "1   How do I track the sales stage of an Opportunity?   \n",
       "2    How do I link Contacts to Opportunities in Sa...   \n",
       "3         How can I forecast my sales in Sales Cloud?   \n",
       "4        How do I create a quote from an Opportunity?   \n",
       "..                                                ...   \n",
       "75  \"How can I automate the process of deactivatin...   \n",
       "76  \"What's the process for managing and troublesh...   \n",
       "77  \"How do I configure sharing rules to give diff...   \n",
       "78  \"Can you explain how to set up a sandbox for t...   \n",
       "79  \"How do I configure and use the Event Monitori...   \n",
       "\n",
       "                                               answer  \n",
       "0   1. Navigate to the \"Opportunities\" tab.2. Clic...  \n",
       "1   1. Open the Opportunity record.2. Find the \"St...  \n",
       "2   1. Open the Opportunity record.2. Scroll to th...  \n",
       "3   1. Go to the \"Forecast\" tab.2. Select \"Forecas...  \n",
       "4   1. Open the Opportunity record.2. In the \"Quot...  \n",
       "..                                                ...  \n",
       "75  1.Create a report to identify inactive users b...  \n",
       "76  1.Review integration logs for error messages. ...  \n",
       "77  1.Go to Setup and search for \"Sharing Rules.\" ...  \n",
       "78  1.Go to Setup and search for \"Sandboxes.\" 2.Cl...  \n",
       "79  1.Enable Event Monitoring in Salesforce Setup....  \n",
       "\n",
       "[80 rows x 2 columns]"
      ]
     },
     "execution_count": 371,
     "metadata": {},
     "output_type": "execute_result"
    }
   ],
   "source": [
    "new"
   ]
  },
  {
   "cell_type": "markdown",
   "id": "281409e2-11a7-4e9e-94a1-85d33c719dd8",
   "metadata": {},
   "source": [
    "# Formatting"
   ]
  },
  {
   "cell_type": "code",
   "execution_count": 374,
   "id": "87c3c3e2-bde3-41bd-8a1b-dafaa1f13011",
   "metadata": {},
   "outputs": [
    {
     "name": "stdout",
     "output_type": "stream",
     "text": [
      "How can I create a new Opportunity in Sales Cloud?\n",
      "1. Navigate to the \"Opportunities\" tab.\n",
      "2. Click \"New Opportunity.\"\n",
      "3. Fill in the necessary fields like Opportunity Name and Close Date.\n",
      "4. Click \"Save.\"\n",
      "\n",
      "How do I track the sales stage of an Opportunity?\n",
      "1. Open the Opportunity record.\n",
      "2. Find the \"Stage\" field.\n",
      "3. Select the appropriate sales stage.\n",
      "4. Save the changes.\n",
      "\n",
      "How do I link Contacts to Opportunities in Sales Cloud?\n",
      "1. Open the Opportunity record.\n",
      "2. Scroll to the \"Contact Roles\" se\n"
     ]
    }
   ],
   "source": [
    "data = \"\"\n",
    "for i in range(new.shape[0]):\n",
    "    q = new.loc[i, 'question']\n",
    "    q = re.sub(r'(^[\\s\"])|([\"\\s]$)', '', q)\n",
    "    a = new.loc[i, 'answer']\n",
    "    qa = f\"{q}{a}\\n\\n\"\n",
    "    qa = re.sub(r'(\\d\\.)\\s*', r'\\n\\1 ', qa)\n",
    "    data += qa\n",
    "\n",
    "data.encode('utf-8')\n",
    "\n",
    "print(data[:500])"
   ]
  },
  {
   "cell_type": "markdown",
   "id": "91b36c01-7a5b-4b08-a0c7-1983ab3be8b6",
   "metadata": {},
   "source": [
    "# Save to File"
   ]
  },
  {
   "cell_type": "code",
   "execution_count": 377,
   "id": "d3e6b0ef-0940-4182-9a21-51ecb10ae6e5",
   "metadata": {},
   "outputs": [
    {
     "data": {
      "text/plain": [
       "21669"
      ]
     },
     "execution_count": 377,
     "metadata": {},
     "output_type": "execute_result"
    }
   ],
   "source": [
    "open('data.txt', 'w', encoding='utf-8').write(data)"
   ]
  },
  {
   "cell_type": "code",
   "execution_count": null,
   "id": "279357ba-39da-4ea0-9138-5665ffe0a52f",
   "metadata": {},
   "outputs": [],
   "source": []
  }
 ],
 "metadata": {
  "kernelspec": {
   "display_name": "Python 3 (ipykernel)",
   "language": "python",
   "name": "python3"
  },
  "language_info": {
   "codemirror_mode": {
    "name": "ipython",
    "version": 3
   },
   "file_extension": ".py",
   "mimetype": "text/x-python",
   "name": "python",
   "nbconvert_exporter": "python",
   "pygments_lexer": "ipython3",
   "version": "3.12.7"
  }
 },
 "nbformat": 4,
 "nbformat_minor": 5
}
